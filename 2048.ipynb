{
 "cells": [
  {
   "cell_type": "markdown",
   "metadata": {},
   "source": [
    "# <center>2048 In One Line Of Code</center>"
   ]
  },
  {
   "cell_type": "markdown",
   "metadata": {},
   "source": [
    "This project started as an off handed boast to my sister that I could create the puzzle game 2048 in one line of code. Unnecicarily said, I had no idea it was possible at that point. However, I'm not one to give up on crazy ideas easily. \n",
    "\n",
    "Starting this project I assumed that creating the game in 1 line of code would impossible, it might be possible with 3: one line for a function declaration, another to return a recursive call to the same function, and a final line for the first function call. I had written a simular piece of code before to solve an interview question to find the nth fibinacci number. However this would be far more complex as the operations on the parameter would be more involved than subtraction."
   ]
  },
  {
   "cell_type": "code",
   "execution_count": 17,
   "metadata": {},
   "outputs": [
    {
     "data": {
      "text/plain": [
       "8"
      ]
     },
     "execution_count": 17,
     "metadata": {},
     "output_type": "execute_result"
    }
   ],
   "source": [
    "def fib(n):\n",
    "    return fib(n - 1) + fib(n - 2) if n > 1 else 1\n",
    "fib(5)"
   ]
  },
  {
   "cell_type": "markdown",
   "metadata": {},
   "source": [
    "with this structure in mind, lets take a look at what types of lines of code, cannot be in our program to indetify some constraints we're working with. First off, we cannot have any variable allocations, but latter on we will see how we can fake that. Secondly, we cannot have additonal functions declarations, destroying any hope of code redibilty. Thirdly, we can not use conventional loop, however originally i suspected that the for keyword could be used in list comprehentions. The final line of code doesn't use a single for loop, but could be rewritten to. And finally, we cannot not import libraries as commonly seen in most python files. By now, you'll have probably expected that I found a work around for that too."
   ]
  },
  {
   "cell_type": "markdown",
   "metadata": {},
   "source": [
    "Because we cannot define local variables, I found a proxy by misusing lambda functions. Instead of using the '=' symbol, we can instead call a lambda function with the values we want to assing as arguements. For example instead of the following"
   ]
  },
  {
   "cell_type": "code",
   "execution_count": 36,
   "metadata": {},
   "outputs": [
    {
     "data": {
      "text/plain": [
       "10"
      ]
     },
     "execution_count": 36,
     "metadata": {},
     "output_type": "execute_result"
    }
   ],
   "source": [
    "x = 1\n",
    "y = 2\n",
    "w, z = 3, 4\n",
    "sum([x, y, w, z])"
   ]
  },
  {
   "cell_type": "markdown",
   "metadata": {},
   "source": [
    "we could do"
   ]
  },
  {
   "cell_type": "code",
   "execution_count": 37,
   "metadata": {},
   "outputs": [
    {
     "data": {
      "text/plain": [
       "10"
      ]
     },
     "execution_count": 37,
     "metadata": {},
     "output_type": "execute_result"
    }
   ],
   "source": [
    "(lambda x: (lambda y: (lambda w, z: sum([x, y, w, z]))))(1)(2)(3, 4)"
   ]
  },
  {
   "cell_type": "markdown",
   "metadata": {},
   "source": [
    "after realizing that you could allocate primatives using lambdas I realized that I should be able to name lambda functions using the same method. Using this methodology, we can rewrite our two line recursive fibonacci function to be the folling one liner"
   ]
  },
  {
   "cell_type": "code",
   "execution_count": 18,
   "metadata": {},
   "outputs": [
    {
     "data": {
      "text/plain": [
       "8"
      ]
     },
     "execution_count": 18,
     "metadata": {},
     "output_type": "execute_result"
    }
   ],
   "source": [
    "(lambda func, args: func(func, args))(lambda fib, n: fib(fib, n - 1) + fib(fib, n - 2) if n > 1 else 1, 5)"
   ]
  },
  {
   "cell_type": "markdown",
   "metadata": {},
   "source": [
    "Unlike normal function where the function name is always in the scope of the body of the function, lambdas are unnamed, so a reference to the function has to be passed into itself. In other words if the lambda function we passed in was simply lambda n: fib(n - 1) + fib(n - 2) if n > 1 else 1 then fib would not be defined."
   ]
  },
  {
   "cell_type": "markdown",
   "metadata": {},
   "source": [
    "I first discovered the ability to import libraries without using the standard imports statements when trying to solve a homework question as follows: a professor has office hours for 2 hours. 2 students visit his office at random for half an hour exactly. What is the probability that they meet?\n",
    "\n",
    "The problem can be solve by testing whether two uniformly distributed random variables are within .5. a simulation is provided bellow. Looking at the result I correctly guessed the answer to be 5/9, but because I had to show work of my homework(and one line python program arn't valid), here is how I solved it mathamtically for the currious."
   ]
  },
  {
   "cell_type": "code",
   "execution_count": 26,
   "metadata": {},
   "outputs": [
    {
     "data": {
      "text/plain": [
       "0.555232"
      ]
     },
     "execution_count": 26,
     "metadata": {},
     "output_type": "execute_result"
    }
   ],
   "source": [
    "import random\n",
    "sum([1 if abs(random.uniform(0, 1.5) - random.uniform(0, 1.5)) < .5 else 0 for i in range(1000000)])/1000000"
   ]
  },
  {
   "cell_type": "markdown",
   "metadata": {},
   "source": [
    "Even as a novice programmer I was obsessed with code compactness over readibility, so I searched for a way to combine the import call into the computation line. While reading the documentation for built in python functions, I found out about __import__() which take in the name of a library as a string. Doing so the compressed simulation is the following line of code."
   ]
  },
  {
   "cell_type": "code",
   "execution_count": 21,
   "metadata": {},
   "outputs": [
    {
     "data": {
      "text/plain": [
       "0.55489"
      ]
     },
     "execution_count": 21,
     "metadata": {},
     "output_type": "execute_result"
    }
   ],
   "source": [
    "sum([1 if abs(__import__('random').uniform(0, 1.5) - __import__('random').uniform(0, 1.5)) < .5 else 0 for i in range(1000000)])/1000000"
   ]
  },
  {
   "cell_type": "markdown",
   "metadata": {},
   "source": [
    "With these 4 work arounds defined, I wish I could say I was able to just write the line of code the way code is normally written(from left to right), if we look our work around for variable assignment we can see how this is impossible."
   ]
  },
  {
   "cell_type": "code",
   "execution_count": 35,
   "metadata": {},
   "outputs": [
    {
     "data": {
      "text/plain": [
       "10"
      ]
     },
     "execution_count": 35,
     "metadata": {},
     "output_type": "execute_result"
    }
   ],
   "source": [
    "(lambda x: (lambda y: (lambda w, z: sum([x, y, w, z]))))(1)(2)(3, 4)"
   ]
  },
  {
   "cell_type": "markdown",
   "metadata": {},
   "source": [
    "The structure of the line of code will be much differenct than any conventional code structure. The line above, while much different then conventional code, still reads from left to right in the sense that y and its assigned value, 2, are to the left of the previous assignment x and its value 1. \n",
    "# rewrite\n",
    "However, that has a major flaw in that ff instead we wanted to set y to be x + 1 instead of 2 the original line would fail as x is not defined. If we want to use previous variables, we have to instead using the following format"
   ]
  },
  {
   "cell_type": "code",
   "execution_count": 34,
   "metadata": {},
   "outputs": [
    {
     "data": {
      "text/plain": [
       "10"
      ]
     },
     "execution_count": 34,
     "metadata": {},
     "output_type": "execute_result"
    }
   ],
   "source": [
    "(lambda x: (lambda y: (lambda w, z: sum([x, y, w, z]))(3, 4))(x + 1))(1)"
   ]
  },
  {
   "cell_type": "markdown",
   "metadata": {},
   "source": [
    "Doing so makes the line of code even more confusing as now the code is read outside inward versus natural languages which typicall use left to right and then top downward. "
   ]
  },
  {
   "cell_type": "markdown",
   "metadata": {},
   "source": []
  },
  {
   "cell_type": "code",
   "execution_count": 38,
   "metadata": {},
   "outputs": [],
   "source": [
    "#needs to be defined before random_zero\n",
    "def zero_locs(board):\n",
    "\treturn list(filter(lambda x: board[x[0]][x[1]] == 0, list(zip(4*list(range(4)), list(sum(zip(*4*[list(range(4))]), ()))))))"
   ]
  },
  {
   "cell_type": "markdown",
   "metadata": {},
   "source": []
  },
  {
   "cell_type": "code",
   "execution_count": 39,
   "metadata": {},
   "outputs": [],
   "source": [
    "def random_zero(board):\n",
    "\treturn __import__('random').choice(zero_locs(board))"
   ]
  },
  {
   "cell_type": "markdown",
   "metadata": {},
   "source": []
  },
  {
   "cell_type": "code",
   "execution_count": 40,
   "metadata": {},
   "outputs": [],
   "source": [
    "def refill_board(board):\n",
    "\treturn (lambda x: list(map(lambda j: list(map(lambda i: __import__('random').choice([2, 4]) if (j, i) == (x[0], x[1]) else board[j][i], range(4))), range(4))))(__import__('random').choice(list(filter(lambda x: board[x[0]][x[1]] == 0, list(zip(4*list(range(4)), list(sum(zip(*4*[list(range(4))]), ()))))))))\n"
   ]
  },
  {
   "cell_type": "markdown",
   "metadata": {},
   "source": []
  },
  {
   "cell_type": "code",
   "execution_count": 41,
   "metadata": {},
   "outputs": [],
   "source": [
    "def rotate_board(board, count):\n",
    "\treturn rotate_board\n"
   ]
  },
  {
   "cell_type": "markdown",
   "metadata": {},
   "source": []
  },
  {
   "cell_type": "code",
   "execution_count": null,
   "metadata": {},
   "outputs": [],
   "source": [
    "def shift_row(row):\n",
    "\treturn list(filter(lambda i: i != 0, row)) + list(filter(lambda i: i == 0, row))\n"
   ]
  },
  {
   "cell_type": "markdown",
   "metadata": {},
   "source": []
  },
  {
   "cell_type": "code",
   "execution_count": null,
   "metadata": {},
   "outputs": [],
   "source": [
    "def combine_row(row):\n",
    "\treturn row if len(row) <= 1 else [row[0] + row[1]] + combine_row(row[2:]) + [0] if row[0] == row[1] else [row[0]] + combine_row(row[1:])\n"
   ]
  },
  {
   "cell_type": "markdown",
   "metadata": {},
   "source": []
  },
  {
   "cell_type": "code",
   "execution_count": null,
   "metadata": {},
   "outputs": [],
   "source": [
    "def myprint(board):\n",
    "\tlist(map(lambda row: print(row), board))\n",
    "    return board"
   ]
  },
  {
   "cell_type": "markdown",
   "metadata": {},
   "source": []
  },
  {
   "cell_type": "code",
   "execution_count": null,
   "metadata": {},
   "outputs": [],
   "source": [
    "def myprint2(boards):\n",
    "\tlist(map(lambda board: myprint(row), boards))"
   ]
  },
  {
   "cell_type": "markdown",
   "metadata": {},
   "source": []
  },
  {
   "cell_type": "code",
   "execution_count": null,
   "metadata": {},
   "outputs": [],
   "source": [
    "def twentyfourtyeight(board = [[0,0,0,0],[0,0,0,0],[0,0,0,0],[0,0,0,0]]):\n",
    "\tif not any(map(any, board)):\n",
    "\t\tboard = refill_board(board)\n",
    "\tmyprint(board)\n",
    "\trotated_boards = list(map(lambda i: rotate_board(board, i), range(4)))\n",
    "\tcombined_boards = list(map(lambda board: list(map(lambda row: combine_row(shift_row(row)), board)), rotated_boards))#good\n",
    "\tunrotated_boards = list(map(lambda i: rotate_board(combined_boards[i], 4 - i), range(4)))\n",
    "\tif unrotated_boards[1:] == unrotated_boards[:-1]:\n",
    "\t\tprint('gameover')\n",
    "\t\treturn\n",
    "\tinput_str = input()\n",
    "\tinput_ind = {'a':0, 's':1, 'd':2, 'w':3}[input_str]\n",
    "\ttwentyfourtyeight(refill_board(refill_board(unrotated_boards[input_ind])) if sum(map(lambda x: x.count(0), unrotated_boards[input_ind])) > 1 and __import__('random').choice([True, False]) else refill_board(unrotated_boards[input_ind])) if unrotated_boards[input_ind] != board else twentyfourtyeight(board)"
   ]
  },
  {
   "cell_type": "markdown",
   "metadata": {},
   "source": []
  },
  {
   "cell_type": "code",
   "execution_count": 2,
   "metadata": {},
   "outputs": [
    {
     "name": "stdout",
     "output_type": "stream",
     "text": [
      "735\n"
     ]
    }
   ],
   "source": [
    "print(len(\"\"\"(lambda twentyfourtyeight, board: twentyfourtyeight(twentyfourtyeight, board))(lambda twentyfourtyeight, board: (lambda boards, input_ind: twentyfourtyeight(refill_board(refill_board(boards[input_ind])) if sum(map(lambda x: x.count(0), boards[input_ind])) > 1 and __import__('random').choice([True, False]) else refill_board(boards[input_ind])) if boards[input_ind] != board else twentyfourtyeight(board))(list(map(lambda i: rotate_board(list(map(lambda board: list(map(lambda row: combine_row(shift_row(row)), board)), list(map(lambda i: rotate_board(refill_board(board) if not any(map(any, board)) else board, i), range(4)))))[i], 4 - i), range(4))), {'a':0, 's':1, 'd':2, 'w':3}[input()]), [[0,0,0,0],[0,0,0,0],[0,0,0,0],[0,0,0,0]])\"\"\"))"
   ]
  },
  {
   "cell_type": "code",
   "execution_count": 10,
   "metadata": {},
   "outputs": [
    {
     "ename": "SyntaxError",
     "evalue": "unexpected EOF while parsing (<ipython-input-10-8dc9f47831ad>, line 1)",
     "output_type": "error",
     "traceback": [
      "\u001b[0;36m  File \u001b[0;32m\"<ipython-input-10-8dc9f47831ad>\"\u001b[0;36m, line \u001b[0;32m1\u001b[0m\n\u001b[0;31m    (lambda refill_board, rotate_board, shift_row, combine_row, myprint: (lambda func, args: func(func, args))(lambda twentyfourtyeight, board: (lambda unrotated_boards, input_ind: print('gameover') if unrotated_boards[1:] == unrotated_boards[:-1] else twentyfourtyeight(twentyfourtyeight, refill_board(refill_board(unrotated_boards[input_ind])) if sum(map(lambda x: x.count(0), unrotated_boards[input_ind])) > 1 and __import__('random').choice([True, False]) else refill_board(unrotated_boards[input_ind])) if unrotated_boards[input_ind] != board else twentyfourtyeight(twentyfourtyeight, board))(list(map(lambda i: rotate_board(list(map(lambda board: list(map(lambda row: combine_row(shift_row(row)), board)), list(map(lambda i: rotate_board(refill_board(board) if not any(map(any, board)) else board, i), range(4)))))[i], 4 - i), range(4))), {'a':0, 's':1, 'd':2, 'w':3}[input()]), [[0,0,0,0],[0,0,0,0],[0,0,0,0],[0,0,0,0]])(lambda board: (lambda x: list(map(lambda j: list(map(lambda i: __import__('random').choice([2, 4]) if (j, i) == (x[0], x[1]) else board[j][i], range(4))), range(4))))(__import__('random').choice(list(filter(lambda x: board[x[0]][x[1]] == 0, list(zip(4*list(range(4)), list(sum(zip(*4*[list(range(4))]), ())))))))), lambda rotate_board, board, count: rotate_board(list(map(list, zip(*board[::-1]))), count - 1) if count > 0 else board, lambda row: list(filter(lambda i: i != 0, row)) + list(filter(lambda i: i == 0, row)), lambda row: row if len(row) <= 1 else [row[0] + row[1]] + combine_row(row[2:]) + [0] if row[0] == row[1] else [row[0]] + combine_row(row[1:]), lambda board: (list(map(lambda row: print(row), board)), board)[1])\u001b[0m\n\u001b[0m                                                                                                                                                                                                                                                                                                                                                                                                                                                                                                                                                                                                                                                                                                                                                                                                                                                                                                                                                                                                                                                                                                                                                                                                                                                                                                                                                                                                                                                                                                                                                                                                                                                                                                                            ^\u001b[0m\n\u001b[0;31mSyntaxError\u001b[0m\u001b[0;31m:\u001b[0m unexpected EOF while parsing\n"
     ]
    }
   ],
   "source": [
    "(lambda refill_board, rotate_board, shift_row, combine_row, myprint: (lambda func, args: func(func, args))(lambda twentyfourtyeight, board: (lambda unrotated_boards, input_ind: print('gameover') if unrotated_boards[1:] == unrotated_boards[:-1] else twentyfourtyeight(twentyfourtyeight, refill_board(refill_board(unrotated_boards[input_ind])) if sum(map(lambda x: x.count(0), unrotated_boards[input_ind])) > 1 and __import__('random').choice([True, False]) else refill_board(unrotated_boards[input_ind])) if unrotated_boards[input_ind] != board else twentyfourtyeight(twentyfourtyeight, board))(list(map(lambda i: rotate_board(list(map(lambda board: list(map(lambda row: combine_row(shift_row(row)), board)), list(map(lambda i: rotate_board(refill_board(board) if not any(map(any, board)) else board, i), range(4)))))[i], 4 - i), range(4))), {'a':0, 's':1, 'd':2, 'w':3}[input()]), [[0,0,0,0],[0,0,0,0],[0,0,0,0],[0,0,0,0]])(lambda board: (lambda x: list(map(lambda j: list(map(lambda i: __import__('random').choice([2, 4]) if (j, i) == (x[0], x[1]) else board[j][i], range(4))), range(4))))(__import__('random').choice(list(filter(lambda x: board[x[0]][x[1]] == 0, list(zip(4*list(range(4)), list(sum(zip(*4*[list(range(4))]), ())))))))), lambda rotate_board, board, count: rotate_board(list(map(list, zip(*board[::-1]))), count - 1) if count > 0 else board, lambda row: list(filter(lambda i: i != 0, row)) + list(filter(lambda i: i == 0, row)), lambda row: row if len(row) <= 1 else [row[0] + row[1]] + combine_row(row[2:]) + [0] if row[0] == row[1] else [row[0]] + combine_row(row[1:]), lambda board: (list(map(lambda row: print(row), board)), board)[1])"
   ]
  },
  {
   "cell_type": "code",
   "execution_count": 4,
   "metadata": {},
   "outputs": [
    {
     "name": "stdout",
     "output_type": "stream",
     "text": [
      "730\n"
     ]
    }
   ],
   "source": [
    "print(len(\"\"\"(lambda refill_board, rotate_board, shift_row, combine_row: None)(lambda board: (lambda x: list(map(lambda j: list(map(lambda i: __import__('random').choice([2, 4]) if (j, i) == (x[0], x[1]) else board[j][i], range(4))), range(4))))(__import__('random').choice(list(filter(lambda x: board[x[0]][x[1]] == 0, list(zip(4*list(range(4)), list(sum(zip(*4*[list(range(4))]), ())))))))), lambda rotate_board, board, count: rotate_board(list(map(list, zip(*board[::-1]))), count - 1) if count > 0 else board, lambda row: list(filter(lambda i: i != 0, row)) + list(filter(lambda i: i == 0, row)), lambda row: row if len(row) <= 1 else [row[0] + row[1]] + combine_row(row[2:]) + [0] if row[0] == row[1] else [row[0]] + combine_row(row[1:]))\"\"\"))"
   ]
  },
  {
   "cell_type": "code",
   "execution_count": 7,
   "metadata": {},
   "outputs": [],
   "source": [
    "None"
   ]
  },
  {
   "cell_type": "code",
   "execution_count": 9,
   "metadata": {},
   "outputs": [
    {
     "name": "stdout",
     "output_type": "stream",
     "text": [
      "1656\n"
     ]
    }
   ],
   "source": [
    "print(len(\"\"\"(lambda refill_board, rotate_board, shift_row, combine_row, myprint: (lambda func, args: func(func, args))(lambda twentyfourtyeight, board: (lambda unrotated_boards, input_ind: print('gameover') if unrotated_boards[1:] == unrotated_boards[:-1] else twentyfourtyeight(twentyfourtyeight, refill_board(refill_board(unrotated_boards[input_ind])) if sum(map(lambda x: x.count(0), unrotated_boards[input_ind])) > 1 and __import__('random').choice([True, False]) else refill_board(unrotated_boards[input_ind])) if unrotated_boards[input_ind] != board else twentyfourtyeight(twentyfourtyeight, board))(list(map(lambda i: rotate_board(list(map(lambda board: list(map(lambda row: combine_row(shift_row(row)), board)), list(map(lambda i: rotate_board(refill_board(board) if not any(map(any, board)) else board, i), range(4)))))[i], 4 - i), range(4))), {'a':0, 's':1, 'd':2, 'w':3}[input()]), [[0,0,0,0],[0,0,0,0],[0,0,0,0],[0,0,0,0]])(lambda board: (lambda x: list(map(lambda j: list(map(lambda i: __import__('random').choice([2, 4]) if (j, i) == (x[0], x[1]) else board[j][i], range(4))), range(4))))(__import__('random').choice(list(filter(lambda x: board[x[0]][x[1]] == 0, list(zip(4*list(range(4)), list(sum(zip(*4*[list(range(4))]), ())))))))), lambda rotate_board, board, count: rotate_board(list(map(list, zip(*board[::-1]))), count - 1) if count > 0 else board, lambda row: list(filter(lambda i: i != 0, row)) + list(filter(lambda i: i == 0, row)), lambda row: row if len(row) <= 1 else [row[0] + row[1]] + combine_row(row[2:]) + [0] if row[0] == row[1] else [row[0]] + combine_row(row[1:]), lambda board: (list(map(lambda row: print(row), board)), board)[1])\"\"\"))"
   ]
  },
  {
   "cell_type": "code",
   "execution_count": 18,
   "metadata": {},
   "outputs": [
    {
     "name": "stdout",
     "output_type": "stream",
     "text": [
      "[0, 0, 0, 0]\n",
      "[0, 0, 0, 2]\n",
      "[0, 0, 0, 0]\n",
      "[0, 0, 0, 0]\n",
      "s\n",
      "[0, 0, 0, 0]\n",
      "[0, 4, 0, 2]\n",
      "[0, 0, 0, 0]\n",
      "[0, 0, 0, 2]\n",
      "s\n",
      "[0, 0, 0, 0]\n",
      "[0, 0, 0, 2]\n",
      "[4, 0, 0, 0]\n",
      "[0, 4, 0, 4]\n",
      "d\n",
      "[0, 0, 0, 0]\n",
      "[0, 2, 0, 2]\n",
      "[4, 0, 0, 4]\n",
      "[0, 0, 0, 8]\n",
      "d\n",
      "[0, 0, 0, 4]\n",
      "[0, 0, 0, 4]\n",
      "[0, 4, 0, 8]\n",
      "[0, 0, 0, 8]\n",
      "s\n",
      "[0, 0, 0, 0]\n",
      "[4, 0, 0, 0]\n",
      "[0, 0, 0, 8]\n",
      "[0, 4, 0, 16]\n",
      "s\n",
      "[0, 0, 0, 2]\n",
      "[0, 4, 0, 0]\n",
      "[0, 0, 0, 8]\n",
      "[4, 4, 0, 16]\n",
      "d\n",
      "[0, 0, 0, 2]\n",
      "[0, 2, 0, 4]\n",
      "[0, 0, 0, 8]\n",
      "[0, 0, 8, 16]\n",
      "d\n",
      "[2, 0, 0, 2]\n",
      "[0, 0, 2, 4]\n",
      "[0, 0, 0, 8]\n",
      "[0, 0, 8, 16]\n",
      "s\n",
      "[0, 0, 2, 2]\n",
      "[0, 0, 4, 4]\n",
      "[0, 0, 2, 8]\n",
      "[2, 0, 8, 16]\n",
      "d\n",
      "[0, 2, 0, 4]\n",
      "[0, 0, 0, 8]\n",
      "[0, 0, 2, 8]\n",
      "[0, 2, 8, 16]\n",
      "s\n",
      "[0, 0, 4, 0]\n",
      "[0, 0, 0, 4]\n",
      "[0, 0, 2, 16]\n",
      "[0, 4, 8, 16]\n",
      "s\n",
      "[2, 0, 4, 0]\n",
      "[0, 0, 4, 0]\n",
      "[0, 0, 2, 4]\n",
      "[0, 4, 8, 32]\n",
      "d\n",
      "[2, 0, 2, 4]\n",
      "[0, 2, 0, 4]\n",
      "[0, 0, 2, 4]\n",
      "[0, 4, 8, 32]\n",
      "s\n",
      "[0, 0, 0, 0]\n",
      "[2, 0, 0, 4]\n",
      "[0, 2, 4, 8]\n",
      "[2, 4, 8, 32]\n",
      "s\n",
      "[0, 0, 0, 0]\n",
      "[2, 0, 0, 4]\n",
      "[2, 2, 4, 8]\n",
      "[4, 4, 8, 32]\n",
      "d\n",
      "[0, 0, 0, 2]\n",
      "[0, 0, 2, 4]\n",
      "[0, 4, 4, 8]\n",
      "[0, 8, 8, 32]\n",
      "d\n",
      "[0, 0, 4, 2]\n",
      "[0, 0, 2, 4]\n",
      "[0, 0, 8, 8]\n",
      "[2, 0, 16, 32]\n",
      "d\n",
      "[0, 0, 4, 2]\n",
      "[0, 4, 2, 4]\n",
      "[0, 2, 0, 16]\n",
      "[0, 2, 16, 32]\n",
      "s\n",
      "[0, 0, 0, 2]\n",
      "[0, 0, 4, 4]\n",
      "[0, 4, 2, 16]\n",
      "[2, 4, 16, 32]\n",
      "s\n",
      "[4, 0, 0, 2]\n",
      "[0, 0, 4, 4]\n",
      "[0, 0, 2, 16]\n",
      "[2, 8, 16, 32]\n",
      "d\n",
      "[0, 0, 4, 2]\n",
      "[2, 0, 4, 8]\n",
      "[0, 0, 2, 16]\n",
      "[2, 8, 16, 32]\n",
      "s\n",
      "[0, 0, 0, 2]\n",
      "[4, 4, 8, 8]\n",
      "[0, 0, 2, 16]\n",
      "[4, 8, 16, 32]\n",
      "d\n",
      "[0, 0, 0, 2]\n",
      "[0, 2, 8, 16]\n",
      "[0, 0, 2, 16]\n",
      "[4, 8, 16, 32]\n",
      "s\n",
      "[0, 0, 4, 0]\n",
      "[0, 0, 8, 2]\n",
      "[2, 2, 2, 32]\n",
      "[4, 8, 16, 32]\n",
      "s\n",
      "[2, 0, 4, 0]\n",
      "[0, 0, 8, 2]\n",
      "[2, 2, 2, 2]\n",
      "[4, 8, 16, 64]\n",
      "a\n",
      "[2, 4, 0, 0]\n",
      "[8, 2, 0, 2]\n",
      "[4, 4, 0, 0]\n",
      "[4, 8, 16, 64]\n",
      "s\n",
      "[0, 4, 0, 0]\n",
      "[2, 2, 0, 0]\n",
      "[8, 4, 2, 2]\n",
      "[8, 8, 16, 64]\n",
      "d\n",
      "[0, 0, 2, 4]\n",
      "[4, 0, 0, 4]\n",
      "[0, 8, 4, 4]\n",
      "[0, 16, 16, 64]\n",
      "d\n",
      "[0, 0, 2, 4]\n",
      "[0, 2, 0, 8]\n",
      "[0, 0, 8, 8]\n",
      "[2, 0, 32, 64]\n",
      "s\n",
      "[0, 0, 0, 0]\n",
      "[4, 2, 2, 4]\n",
      "[0, 0, 8, 16]\n",
      "[2, 2, 32, 64]\n",
      "d\n",
      "[2, 0, 0, 0]\n",
      "[0, 4, 4, 4]\n",
      "[0, 0, 8, 16]\n",
      "[0, 4, 32, 64]\n",
      "s\n",
      "[0, 0, 0, 0]\n",
      "[0, 2, 4, 4]\n",
      "[0, 0, 8, 16]\n",
      "[2, 8, 32, 64]\n",
      "s\n",
      "[0, 0, 2, 0]\n",
      "[0, 0, 4, 4]\n",
      "[0, 2, 8, 16]\n",
      "[2, 8, 32, 64]\n",
      "a\n",
      "[2, 0, 0, 0]\n",
      "[8, 4, 0, 0]\n",
      "[2, 8, 16, 0]\n",
      "[2, 8, 32, 64]\n",
      "s\n",
      "[0, 2, 0, 0]\n",
      "[2, 0, 0, 0]\n",
      "[8, 4, 16, 4]\n",
      "[4, 16, 32, 64]\n",
      "a\n",
      "[2, 2, 0, 2]\n",
      "[2, 0, 0, 0]\n",
      "[8, 4, 16, 4]\n",
      "[4, 16, 32, 64]\n",
      "s\n",
      "[0, 0, 0, 0]\n",
      "[4, 2, 4, 2]\n",
      "[8, 4, 16, 4]\n",
      "[4, 16, 32, 64]\n",
      "d\n",
      "[0, 0, 0, 0]\n",
      "[4, 2, 4, 2]\n",
      "[8, 4, 16, 4]\n",
      "[4, 16, 32, 64]\n",
      "w\n",
      "[4, 2, 4, 2]\n",
      "[8, 4, 16, 4]\n",
      "[4, 16, 32, 64]\n",
      "[0, 0, 2, 4]\n",
      "s\n",
      "[2, 4, 4, 2]\n",
      "[4, 2, 16, 4]\n",
      "[8, 4, 32, 64]\n",
      "[4, 16, 2, 4]\n",
      "a\n",
      "[2, 8, 2, 4]\n",
      "[4, 2, 16, 4]\n",
      "[8, 4, 32, 64]\n",
      "[4, 16, 2, 4]\n",
      "s\n",
      "[2, 8, 2, 2]\n",
      "[4, 2, 16, 8]\n",
      "[8, 4, 32, 64]\n",
      "[4, 16, 2, 4]\n",
      "a\n",
      "[2, 8, 4, 2]\n",
      "[4, 2, 16, 8]\n",
      "[8, 4, 32, 64]\n",
      "[4, 16, 2, 4]\n",
      "s\n",
      "gameover\n"
     ]
    }
   ],
   "source": [
    "(lambda refill_board, rotate_board, shift_row, combine_row, myprint: \n",
    "    (lambda func, args: \n",
    "         func(func, args)\n",
    "    )(lambda twentyfourtyeight, board: \n",
    "        (lambda board:\n",
    "            (lambda unrotated_boards, input_ind: \n",
    "                 print('gameover') if unrotated_boards[1:] == unrotated_boards[:-1] else twentyfourtyeight(twentyfourtyeight, refill_board(refill_board(unrotated_boards[input_ind])) if sum(map(lambda x: x.count(0), unrotated_boards[input_ind])) > 1 and __import__('random').choice([True, False]) else refill_board(unrotated_boards[input_ind])) if unrotated_boards[input_ind] != board else twentyfourtyeight(twentyfourtyeight, board)\n",
    "            )(\n",
    "                list(map(lambda i: rotate_board(rotate_board, list(map(lambda board: list(map(lambda row: combine_row(combine_row, shift_row(row)), board)), list(map(lambda i: rotate_board(rotate_board, board, i), range(4)))))[i], 4 - i), range(4))), \n",
    "                {'a':0, 's':1, 'd':2, 'w':3}[input()]\n",
    "            )\n",
    "        )(\n",
    "            myprint(refill_board(board) if not any(map(any, board)) else board)\n",
    "        ),\n",
    "        [[0,0,0,0],[0,0,0,0],[0,0,0,0],[0,0,0,0]]\n",
    "    )\n",
    ")(\n",
    "    lambda board: (lambda x: list(map(lambda j: list(map(lambda i: __import__('random').choice([2, 4]) if (j, i) == (x[0], x[1]) else board[j][i], range(4))), range(4))))(__import__('random').choice(list(filter(lambda x: board[x[0]][x[1]] == 0, list(zip(4*list(range(4)), list(sum(zip(*4*[list(range(4))]), ())))))))), \n",
    "    lambda rotate_board, board, count: rotate_board(rotate_board, list(map(list, zip(*board[::-1]))), count - 1) if count > 0 else board, \n",
    "    lambda row: list(filter(lambda i: i != 0, row)) + list(filter(lambda i: i == 0, row)), \n",
    "    lambda combine_row, row: row if len(row) <= 1 else [row[0] + row[1]] + combine_row(combine_row, row[2:]) + [0] if row[0] == row[1] else [row[0]] + combine_row(combine_row, row[1:]), \n",
    "    lambda board: (list(map(lambda row: print(row), board)), board)[1]\n",
    ")"
   ]
  },
  {
   "cell_type": "markdown",
   "metadata": {},
   "source": [
    "# need to change recursive limit with sys.setrecursionlimit(1500)"
   ]
  },
  {
   "cell_type": "markdown",
   "metadata": {},
   "source": [
    "# How do you do one line class declarations?"
   ]
  },
  {
   "cell_type": "code",
   "execution_count": 84,
   "metadata": {},
   "outputs": [
    {
     "data": {
      "text/plain": [
       "(2, 4)"
      ]
     },
     "execution_count": 84,
     "metadata": {},
     "output_type": "execute_result"
    }
   ],
   "source": [
    "(lambda X: X(1, 2) + X(1,2))(lambda x, y: type('X', (object,), {'__add__': lambda self, other: (self.x + other.x, self.y + other.y), 'x': x, 'y': y, 'foo': lambda self: 'foo'})())"
   ]
  },
  {
   "cell_type": "code",
   "execution_count": 71,
   "metadata": {},
   "outputs": [
    {
     "data": {
      "text/plain": [
       "__main__.X"
      ]
     },
     "execution_count": 71,
     "metadata": {},
     "output_type": "execute_result"
    }
   ],
   "source": [
    "(lambda X: X())(type('X', (object,), {'foo': lambda self: 'foo'}))\n",
    "#type of this is the line above"
   ]
  },
  {
   "cell_type": "code",
   "execution_count": null,
   "metadata": {},
   "outputs": [],
   "source": [
    "(lambda make_X: type('X', (object,), diction))"
   ]
  },
  {
   "cell_type": "code",
   "execution_count": 19,
   "metadata": {},
   "outputs": [
    {
     "name": "stdout",
     "output_type": "stream",
     "text": [
      "1973\n"
     ]
    }
   ],
   "source": [
    "print(len(\"\"\"(lambda refill_board, rotate_board, shift_row, combine_row, myprint: \n",
    "    (lambda func, args: \n",
    "         func(func, args)\n",
    "    )(lambda twentyfourtyeight, board: \n",
    "        (lambda board:\n",
    "            (lambda unrotated_boards, input_ind: \n",
    "                 print('gameover') if unrotated_boards[1:] == unrotated_boards[:-1] else twentyfourtyeight(twentyfourtyeight, refill_board(refill_board(unrotated_boards[input_ind])) if sum(map(lambda x: x.count(0), unrotated_boards[input_ind])) > 1 and __import__('random').choice([True, False]) else refill_board(unrotated_boards[input_ind])) if unrotated_boards[input_ind] != board else twentyfourtyeight(twentyfourtyeight, board)\n",
    "            )(\n",
    "                list(map(lambda i: rotate_board(rotate_board, list(map(lambda board: list(map(lambda row: combine_row(combine_row, shift_row(row)), board)), list(map(lambda i: rotate_board(rotate_board, board, i), range(4)))))[i], 4 - i), range(4))), \n",
    "                {'a':0, 's':1, 'd':2, 'w':3}[input()]\n",
    "            )\n",
    "        )(\n",
    "            myprint(refill_board(board) if not any(map(any, board)) else board)\n",
    "        ),\n",
    "        [[0,0,0,0],[0,0,0,0],[0,0,0,0],[0,0,0,0]]\n",
    "    )\n",
    ")(\n",
    "    lambda board: (lambda x: list(map(lambda j: list(map(lambda i: __import__('random').choice([2, 4]) if (j, i) == (x[0], x[1]) else board[j][i], range(4))), range(4))))(__import__('random').choice(list(filter(lambda x: board[x[0]][x[1]] == 0, list(zip(4*list(range(4)), list(sum(zip(*4*[list(range(4))]), ())))))))), \n",
    "    lambda rotate_board, board, count: rotate_board(rotate_board, list(map(list, zip(*board[::-1]))), count - 1) if count > 0 else board, \n",
    "    lambda row: list(filter(lambda i: i != 0, row)) + list(filter(lambda i: i == 0, row)), \n",
    "    lambda combine_row, row: row if len(row) <= 1 else [row[0] + row[1]] + combine_row(combine_row, row[2:]) + [0] if row[0] == row[1] else [row[0]] + combine_row(combine_row, row[1:]), \n",
    "    lambda board: (list(map(lambda row: print(row), board)), board)[1]\n",
    ")\"\"\"))"
   ]
  },
  {
   "cell_type": "code",
   "execution_count": null,
   "metadata": {},
   "outputs": [],
   "source": []
  }
 ],
 "metadata": {
  "kernelspec": {
   "display_name": "Python 3",
   "language": "python",
   "name": "python3"
  },
  "language_info": {
   "codemirror_mode": {
    "name": "ipython",
    "version": 3
   },
   "file_extension": ".py",
   "mimetype": "text/x-python",
   "name": "python",
   "nbconvert_exporter": "python",
   "pygments_lexer": "ipython3",
   "version": "3.6.3"
  }
 },
 "nbformat": 4,
 "nbformat_minor": 2
}
